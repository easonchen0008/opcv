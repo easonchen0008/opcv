{
 "cells": [
  {
   "cell_type": "code",
   "execution_count": 1,
   "metadata": {},
   "outputs": [],
   "source": [
    "import pyautogui\n",
    "import cv2\n",
    "import time\n",
    "import keyboard\n",
    "import numpy as np\n",
    "\n"
   ]
  },
  {
   "cell_type": "code",
   "execution_count": 49,
   "metadata": {},
   "outputs": [],
   "source": [
    "def testmod():\n",
    "    screenshot = pyautogui.screenshot()\n",
    "    screenshot.save('now.png')\n",
    "    screenshot = cv2.imread('now.png')\n",
    "    hand1 = cv2.imread('number11.png')\n",
    "\n",
    "\n",
    "    where_hand1 = cv2.matchTemplate(screenshot,hand1,cv2.TM_CCOEFF_NORMED)\n",
    "    threshold = 0.6\n",
    "    yloc ,xloc = np.where(where_hand1>=threshold)\n",
    "    if(len(xloc) > 0):\n",
    "        pyautogui.click(xloc[0]+50,yloc[0]+50)\n",
    "        time.sleep(2)\n",
    "    else:\n",
    "        print(\"false\")\n",
    "\n",
    "    screenshot = pyautogui.screenshot()\n",
    "    screenshot.save('now.png')\n",
    "    screenshot = cv2.imread('now.png')\n",
    "    hand2 = cv2.imread('number5.png')\n",
    "    hand3 = cv2.imread('number4.png')\n",
    "    # w = hand1.shape[1]\n",
    "    # h = hand1.shape[0]\n",
    "    # print(w)\n",
    "    # print(h)\n",
    "    where_hand2 = cv2.matchTemplate(screenshot,hand2,cv2.TM_CCOEFF_NORMED)\n",
    "    where_hand3 = cv2.matchTemplate(screenshot,hand3,cv2.TM_CCOEFF_NORMED)\n",
    "    bary , barx = np.where(where_hand2 >=threshold)\n",
    "    hady , hadx = np.where(where_hand3 >=threshold)\n",
    "    # cv2.rectangle(screenshot, (barx[0],bary[0]) ,(barx[0]+w,bary[0]+h),(0,255,255) ,2)\n",
    "    if(len(barx) > 0):\n",
    "        pyautogui.moveTo(barx[0]+40,bary[0]+40)\n",
    "        time.sleep(0.01)\n",
    "        pyautogui.dragTo(hadx[0]+30 , hady[0]+30 ,duration=2, button='left')\n",
    "    else:\n",
    "        print(\"false\")\n",
    "    # cv2.imshow('imgname',screenshot)\n",
    "    # cv2.waitKey(0)\n",
    "    # cv2.destroyAllWindows()\n",
    "\n",
    "        \n",
    "\n"
   ]
  },
  {
   "cell_type": "code",
   "execution_count": 51,
   "metadata": {},
   "outputs": [
    {
     "name": "stdout",
     "output_type": "stream",
     "text": [
      "false\n",
      "false\n"
     ]
    }
   ],
   "source": [
    "# while keyboard.is_pressed('q') == False:\n",
    "testmod()"
   ]
  }
 ],
 "metadata": {
  "kernelspec": {
   "display_name": "Python 3",
   "language": "python",
   "name": "python3"
  },
  "language_info": {
   "codemirror_mode": {
    "name": "ipython",
    "version": 3
   },
   "file_extension": ".py",
   "mimetype": "text/x-python",
   "name": "python",
   "nbconvert_exporter": "python",
   "pygments_lexer": "ipython3",
   "version": "3.11.0"
  }
 },
 "nbformat": 4,
 "nbformat_minor": 2
}
