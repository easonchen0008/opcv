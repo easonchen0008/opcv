{
 "cells": [
  {
   "cell_type": "code",
   "execution_count": 1,
   "metadata": {},
   "outputs": [],
   "source": [
    "import pyautogui\n",
    "import cv2\n",
    "import time\n",
    "import keyboard\n",
    "import numpy as np\n"
   ]
  },
  {
   "cell_type": "code",
   "execution_count": 2,
   "metadata": {},
   "outputs": [],
   "source": [
    "\n",
    "def catch():\n",
    "    screenshot = pyautogui.screenshot()\n",
    "    screenshot.save('now.png')\n",
    "    screenshot = cv2.imread('now.png')\n",
    "    hand1 = cv2.imread('KogMaw.png')\n",
    "    hand2 = cv2.imread('Caitlyn.png')\n",
    "    hand3 = cv2.imread(\"Cho'Gath.png\")\n",
    "    hand4 = cv2.imread('Malphite.png')\n",
    "    #check hand1\n",
    "    where_hand1 = cv2.matchTemplate(screenshot,hand1,cv2.TM_CCOEFF_NORMED)\n",
    "    threshold = 0.6\n",
    "    yloc ,xloc = np.where(where_hand1>=threshold)\n",
    "    if(len(xloc) > 0):\n",
    "        pyautogui.click(xloc[0]+50,yloc[0]+50)\n",
    "        time.sleep(0.5)\n",
    "    else:\n",
    "        print(\"hand1 false\")\n",
    "    #check hand2\n",
    "    where_hand2 = cv2.matchTemplate(screenshot,hand2,cv2.TM_CCOEFF_NORMED)\n",
    "    threshold = 0.6\n",
    "    yloc ,xloc = np.where(where_hand2>=threshold)\n",
    "    if(len(xloc) > 0):\n",
    "        pyautogui.click(xloc[0]+50,yloc[0]+50)\n",
    "        time.sleep(0.5)\n",
    "    else:\n",
    "        print(\"hand2 false\")\n",
    "    #check hand3\n",
    "    where_hand3 = cv2.matchTemplate(screenshot,hand3,cv2.TM_CCOEFF_NORMED)\n",
    "    threshold = 0.6\n",
    "    yloc ,xloc = np.where(where_hand3>=threshold)\n",
    "    if(len(xloc) > 0):\n",
    "        pyautogui.click(xloc[0]+50,yloc[0]+50)\n",
    "        time.sleep(0.5)\n",
    "    else:\n",
    "        print(\"hand3 false\")\n",
    "    #check hand4\n",
    "    where_hand4 = cv2.matchTemplate(screenshot,hand4,cv2.TM_CCOEFF_NORMED)\n",
    "    threshold = 0.6\n",
    "    yloc ,xloc = np.where(where_hand4>=threshold)\n",
    "    if(len(xloc) > 0):\n",
    "        pyautogui.click(xloc[0]+50,yloc[0]+50)\n",
    "        time.sleep(0.5)\n",
    "    else:\n",
    "        print(\"hand4 false\")"
   ]
  }
 ],
 "metadata": {
  "kernelspec": {
   "display_name": "Python 3",
   "language": "python",
   "name": "python3"
  },
  "language_info": {
   "codemirror_mode": {
    "name": "ipython",
    "version": 3
   },
   "file_extension": ".py",
   "mimetype": "text/x-python",
   "name": "python",
   "nbconvert_exporter": "python",
   "pygments_lexer": "ipython3",
   "version": "3.11.0"
  }
 },
 "nbformat": 4,
 "nbformat_minor": 2
}
