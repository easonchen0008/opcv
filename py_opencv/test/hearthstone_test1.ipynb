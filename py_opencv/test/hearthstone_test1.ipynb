{
 "cells": [
  {
   "cell_type": "code",
   "execution_count": 4,
   "metadata": {},
   "outputs": [],
   "source": [
    "import pyautogui\n",
    "import cv2\n",
    "import time\n",
    "import keyboard\n",
    "import numpy as np\n"
   ]
  },
  {
   "cell_type": "code",
   "execution_count": 6,
   "metadata": {},
   "outputs": [],
   "source": [
    "def start():\n",
    "    screenshot = pyautogui.screenshot()\n",
    "    screenshot.save('now.png')\n",
    "    screenshot = cv2.imread('now.png')\n",
    "    start = cv2.imread('start.png')\n",
    "\n",
    "    where_start = cv2.matchTemplate(screenshot,start,cv2.TM_CCOEFF_NORMED)\n",
    "    threshold = 0.6\n",
    "    yloc ,xloc = np.where(where_start>=threshold)\n",
    "    if(len(xloc) > 0):\n",
    "        pyautogui.click(xloc[0]+50,yloc[0]+50)\n",
    "        time.sleep(0.01)\n",
    "    else:\n",
    "        print(\"false\")"
   ]
  },
  {
   "cell_type": "code",
   "execution_count": 10,
   "metadata": {},
   "outputs": [],
   "source": [
    "def switch():\n",
    "    screenshot = pyautogui.screenshot()\n",
    "    screenshot.save('now.png')\n",
    "    screenshot = cv2.imread('now.png')\n",
    "    # switch the card\n",
    "    card = cv2.imread('Tomb_Traitor.png')\n",
    "    where_card = cv2.matchTemplate(screenshot,card,cv2.TM_CCOEFF_NORMED)\n",
    "    threshold = 0.6\n",
    "    yloc ,xloc = np.where(where_card>=threshold)\n",
    "    if(len(xloc) > 0):\n",
    "        pyautogui.click(xloc[0]+50,yloc[0]+50)\n",
    "        time.sleep(0.01)\n",
    "    # this is divider\n",
    "    card = cv2.imread('Reap_What_You_sow.png')\n",
    "    where_card = cv2.matchTemplate(screenshot,card,cv2.TM_CCOEFF_NORMED)\n",
    "    threshold = 0.6\n",
    "    yloc ,xloc = np.where(where_card>=threshold)\n",
    "    if(len(xloc) > 0):\n",
    "        pyautogui.click(xloc[0]+50,yloc[0]+50)\n",
    "        time.sleep(0.01)\n",
    "    \n",
    "    #confirm\n",
    "    confirm = cv2.imread('confirm.png')\n",
    "    where_confirm = cv2.matchTemplate(screenshot,confirm,cv2.TM_CCOEFF_NORMED)\n",
    "    threshold = 0.6\n",
    "    yloc ,xloc = np.where(where_confirm>=threshold)\n",
    "    if(len(xloc) > 0):\n",
    "        pyautogui.click(xloc[0]+50,yloc[0]+50)\n",
    "        time.sleep(0.01)"
   ]
  },
  {
   "cell_type": "code",
   "execution_count": 7,
   "metadata": {},
   "outputs": [
    {
     "name": "stdout",
     "output_type": "stream",
     "text": [
      "[1367 1368 1369 1366 1367 1368 1369 1370 1366 1367 1368 1369 1370 1371\n",
      " 1365 1366 1367 1368 1369 1370 1371 1365 1366 1367 1368 1369 1370 1366\n",
      " 1367 1368 1369 1370 1367 1368 1369]\n"
     ]
    }
   ],
   "source": [
    "start()\n"
   ]
  },
  {
   "cell_type": "code",
   "execution_count": 11,
   "metadata": {},
   "outputs": [],
   "source": [
    "switch()"
   ]
  },
  {
   "cell_type": "code",
   "execution_count": null,
   "metadata": {},
   "outputs": [],
   "source": []
  }
 ],
 "metadata": {
  "kernelspec": {
   "display_name": "Python 3",
   "language": "python",
   "name": "python3"
  },
  "language_info": {
   "codemirror_mode": {
    "name": "ipython",
    "version": 3
   },
   "file_extension": ".py",
   "mimetype": "text/x-python",
   "name": "python",
   "nbconvert_exporter": "python",
   "pygments_lexer": "ipython3",
   "version": "3.11.0"
  }
 },
 "nbformat": 4,
 "nbformat_minor": 2
}
