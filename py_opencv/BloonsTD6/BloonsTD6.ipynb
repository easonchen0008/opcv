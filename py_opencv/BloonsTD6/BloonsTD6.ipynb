{
 "cells": [
  {
   "cell_type": "code",
   "execution_count": 8,
   "metadata": {},
   "outputs": [],
   "source": [
    "import pyautogui\n",
    "import cv2\n",
    "import time\n",
    "import keyboard\n",
    "import numpy as np\n"
   ]
  },
  {
   "cell_type": "code",
   "execution_count": 64,
   "metadata": {},
   "outputs": [],
   "source": [
    "start()"
   ]
  },
  {
   "cell_type": "code",
   "execution_count": 58,
   "metadata": {},
   "outputs": [],
   "source": [
    "def start():\n",
    "    screenshot = pyautogui.screenshot()\n",
    "    screenshot.save('now.png')\n",
    "    screenshot = cv2.imread('now.png')\n",
    "    target = cv2.imread('start.png')\n",
    "\n",
    "    where_target = cv2.matchTemplate(screenshot,target,cv2.TM_CCOEFF_NORMED)\n",
    "    threshold = 0.6\n",
    "    yloc ,xloc = np.where(where_target>=threshold)\n",
    "    if(len(xloc) > 0):\n",
    "        pyautogui.click(xloc[0]+50,yloc[0]+50)\n",
    "        time.sleep(1)\n",
    "        map1()\n",
    "    else:\n",
    "        print(\"false\")"
   ]
  },
  {
   "cell_type": "code",
   "execution_count": 57,
   "metadata": {},
   "outputs": [],
   "source": [
    "def map1():\n",
    "    screenshot = pyautogui.screenshot()\n",
    "    screenshot.save('now.png')\n",
    "    screenshot = cv2.imread('now.png')\n",
    "    target = cv2.imread('map1.png')\n",
    "    where_target = cv2.matchTemplate(screenshot,target,cv2.TM_CCOEFF_NORMED)\n",
    "    threshold = 0.6\n",
    "    yloc ,xloc = np.where(where_target>=threshold)\n",
    "    if(len(xloc) > 0):\n",
    "        pyautogui.click(xloc[0]+50,yloc[0]+50)\n",
    "        time.sleep(0.1)\n",
    "        right_arrow()\n",
    "    else:\n",
    "        print(\"false\")"
   ]
  },
  {
   "cell_type": "code",
   "execution_count": 56,
   "metadata": {},
   "outputs": [],
   "source": [
    "def right_arrow():\n",
    "    screenshot = pyautogui.screenshot()\n",
    "    screenshot.save('now.png')\n",
    "    screenshot = cv2.imread('now.png')\n",
    "    target = cv2.imread('right_arrow.png')\n",
    "    where_target = cv2.matchTemplate(screenshot,target,cv2.TM_CCOEFF_NORMED)\n",
    "    threshold = 0.6\n",
    "    yloc ,xloc = np.where(where_target>=threshold)\n",
    "    if(len(xloc) > 0):\n",
    "        pyautogui.click(xloc[0]+50,yloc[0]+50)\n",
    "        time.sleep(0.1)\n",
    "        map2()\n",
    "    else:\n",
    "        print(\"false\")"
   ]
  },
  {
   "cell_type": "code",
   "execution_count": 61,
   "metadata": {},
   "outputs": [],
   "source": [
    "def map2():\n",
    "    screenshot = pyautogui.screenshot()\n",
    "    screenshot.save('now.png')\n",
    "    screenshot = cv2.imread('now.png')\n",
    "    target = cv2.imread('map.png')\n",
    "    where_target = cv2.matchTemplate(screenshot,target,cv2.TM_CCOEFF_NORMED)\n",
    "    threshold = 0.6\n",
    "    yloc ,xloc = np.where(where_target>=threshold)\n",
    "    if(len(xloc) > 0):\n",
    "        pyautogui.click(xloc[0]+50,yloc[0]+50)\n",
    "        time.sleep(1)\n",
    "        easy()\n",
    "    else:\n",
    "        print(\"false\")"
   ]
  },
  {
   "cell_type": "code",
   "execution_count": 54,
   "metadata": {},
   "outputs": [],
   "source": [
    "def easy():\n",
    "    screenshot = pyautogui.screenshot()\n",
    "    screenshot.save('now.png')\n",
    "    screenshot = cv2.imread('now.png')\n",
    "    target = cv2.imread('easy.png')\n",
    "    where_target = cv2.matchTemplate(screenshot,target,cv2.TM_CCOEFF_NORMED)\n",
    "    threshold = 0.6\n",
    "    yloc ,xloc = np.where(where_target>=threshold)\n",
    "    if(len(xloc) > 0):\n",
    "        pyautogui.click(xloc[0]+50,yloc[0]+50)\n",
    "        time.sleep(1)\n",
    "        GameMod()\n",
    "    else:\n",
    "        print(\"false\")"
   ]
  },
  {
   "cell_type": "code",
   "execution_count": 219,
   "metadata": {},
   "outputs": [],
   "source": [
    "def GameMod():\n",
    "    screenshot = pyautogui.screenshot()\n",
    "    screenshot.save('now.png')\n",
    "    screenshot = cv2.imread('now.png')\n",
    "    target = cv2.imread('GameMod.png')\n",
    "    where_target = cv2.matchTemplate(screenshot,target,cv2.TM_CCOEFF_NORMED)\n",
    "    threshold = 0.6\n",
    "    yloc ,xloc = np.where(where_target>=threshold)\n",
    "    if(len(xloc) > 0):\n",
    "        pyautogui.click(xloc[0]+50,yloc[0]+50)\n",
    "        time.sleep(3)\n",
    "        Yes()\n",
    "    else:\n",
    "        print(\"false\")"
   ]
  },
  {
   "cell_type": "code",
   "execution_count": 98,
   "metadata": {},
   "outputs": [],
   "source": [
    "def Yes():\n",
    "    screenshot = pyautogui.screenshot()\n",
    "    screenshot.save('now.png')\n",
    "    screenshot = cv2.imread('now.png')\n",
    "    target = cv2.imread('Yes.png')\n",
    "    where_target = cv2.matchTemplate(screenshot,target,cv2.TM_CCOEFF_NORMED)\n",
    "    threshold = 0.6\n",
    "    yloc ,xloc = np.where(where_target>=threshold)\n",
    "    if(len(xloc) > 0):\n",
    "        pyautogui.click(xloc[0]+50,yloc[0]+50)\n",
    "        time.sleep(1)\n",
    "        prepare()\n",
    "    else:\n",
    "        print(\"false\")"
   ]
  },
  {
   "cell_type": "code",
   "execution_count": 209,
   "metadata": {},
   "outputs": [],
   "source": [
    "def prepare():\n",
    "    screenshot = pyautogui.screenshot()\n",
    "    screenshot.save('now.png')\n",
    "    screenshot = cv2.imread('now.png')\n",
    "    target = cv2.imread('hero.png')\n",
    "    loc = cv2.imread('hero_loc.png')\n",
    "    where_target = cv2.matchTemplate(screenshot,target,cv2.TM_CCOEFF_NORMED)\n",
    "    where_loc = cv2.matchTemplate(screenshot,loc,cv2.TM_CCOEFF_NORMED)\n",
    "    threshold = 0.6\n",
    "    yloc ,xloc = np.where(where_target>=threshold)\n",
    "    yloc2 ,xloc2 = np.where(where_loc>=threshold)\n",
    "    if(len(xloc) > 0 and len(xloc2)>0 ):\n",
    "        pyautogui.moveTo(xloc[0]+30,yloc[0]+30)\n",
    "        time.sleep(0.1)\n",
    "        pyautogui.dragTo(xloc2[0]+18,yloc2[0]+75, duration=1, button='left')\n",
    "        time.sleep(0.1)\n",
    "        pyautogui.moveTo(xloc[0]+50,yloc[0]+500)\n",
    "        pyautogui.dragTo(xloc[0]+50,yloc[0]-450, duration=1, button='left')\n",
    "        time.sleep(0.3)\n",
    "        tower()\n",
    "\n",
    "    else:\n",
    "        print(\"false\")\n"
   ]
  },
  {
   "cell_type": "code",
   "execution_count": 202,
   "metadata": {},
   "outputs": [],
   "source": [
    "def tower():\n",
    "    screenshot = pyautogui.screenshot()\n",
    "    screenshot.save('now.png')\n",
    "    screenshot = cv2.imread('now.png')\n",
    "    target = cv2.imread('tower.png')\n",
    "    location = cv2.imread('location.png')\n",
    "    where_target = cv2.matchTemplate(screenshot,target,cv2.TM_CCOEFF_NORMED)\n",
    "    where_loc = cv2.matchTemplate(screenshot,location,cv2.TM_CCOEFF_NORMED)\n",
    "    threshold = 0.6\n",
    "    yloc ,xloc = np.where(where_target>=threshold)\n",
    "    yloc2 ,xloc2 = np.where(where_loc>=threshold)\n",
    "    if(len(xloc) > 0 and len(xloc2)>0 ):\n",
    "        pyautogui.moveTo(xloc[0]+50,yloc[0]+50)\n",
    "        pyautogui.dragTo(xloc2[0]+130,yloc2[0], duration=1, button='left')\n",
    "        pyautogui.click(xloc2[0]+130,yloc2[0])\n",
    "        time.sleep(0.3)\n",
    "        tower_upgrade()\n",
    "\n",
    "    else:\n",
    "        print(\"false\")"
   ]
  },
  {
   "cell_type": "code",
   "execution_count": 201,
   "metadata": {},
   "outputs": [],
   "source": [
    "def tower_upgrade():\n",
    "    screenshot = pyautogui.screenshot()\n",
    "    screenshot.save('now.png')\n",
    "    screenshot = cv2.imread('now.png')\n",
    "    target = cv2.imread('upgrade.png')\n",
    "    where_target = cv2.matchTemplate(screenshot,target,cv2.TM_CCOEFF_NORMED)\n",
    "    threshold = 0.6\n",
    "    yloc ,xloc = np.where(where_target>=threshold)\n",
    "    if(len(xloc) > 0 ):\n",
    "        pyautogui.click(xloc[0]+50,yloc[0]+50 ,clicks=2, interval=0.5)\n",
    "        time.sleep(0.1)\n",
    "        pyautogui.click(xloc[0]+50,yloc[0]-180 ,clicks=2, interval=0.5)\n",
    "        time.sleep(0.3)\n",
    "        heromonkey()\n",
    "    else:\n",
    "        print(\"false\")"
   ]
  },
  {
   "cell_type": "code",
   "execution_count": 200,
   "metadata": {},
   "outputs": [],
   "source": [
    "def heromonkey():\n",
    "    screenshot = pyautogui.screenshot()\n",
    "    screenshot.save('now.png')\n",
    "    screenshot = cv2.imread('now.png')\n",
    "    target = cv2.imread('heromonkey.png')\n",
    "    location = cv2.imread('location.png')\n",
    "    where_target = cv2.matchTemplate(screenshot,target,cv2.TM_CCOEFF_NORMED)\n",
    "    where_loc = cv2.matchTemplate(screenshot,location,cv2.TM_CCOEFF_NORMED)\n",
    "    threshold = 0.6\n",
    "    yloc ,xloc = np.where(where_target>=threshold)\n",
    "    yloc2 ,xloc2 = np.where(where_loc>=threshold)\n",
    "    if(len(xloc) > 0 and len(xloc2)>0 ):\n",
    "        pyautogui.moveTo(xloc[0]+50,yloc[0]+50)\n",
    "        pyautogui.dragTo(xloc2[0]+250,yloc2[0]+100, duration=1, button='left')\n",
    "        pyautogui.click(xloc2[0]+250,yloc2[0]+100,clicks=2, interval=0.7)\n",
    "        time.sleep(0.3)\n",
    "        heromonkey_upgrade()\n",
    "    else:\n",
    "        print(\"false\")"
   ]
  },
  {
   "cell_type": "code",
   "execution_count": 199,
   "metadata": {},
   "outputs": [],
   "source": [
    "def heromonkey_upgrade():\n",
    "    screenshot = pyautogui.screenshot()\n",
    "    screenshot.save('now.png')\n",
    "    screenshot = cv2.imread('now.png')\n",
    "    target = cv2.imread('upgrade3.png')\n",
    "    where_target = cv2.matchTemplate(screenshot,target,cv2.TM_CCOEFF_NORMED)\n",
    "    threshold = 0.6\n",
    "    yloc ,xloc = np.where(where_target>=threshold)\n",
    "    if(len(xloc) > 0 ):\n",
    "        pyautogui.click(xloc[0]+50,yloc[0]+50 ,clicks=3, interval=0.5)\n",
    "        time.sleep(0.1)\n",
    "        pyautogui.click(xloc[0]+50,yloc[0]-180 ,clicks=2, interval=0.5)\n",
    "        time.sleep(0.3)\n",
    "        ninja()\n",
    "    else:\n",
    "        print(\"false\")"
   ]
  },
  {
   "cell_type": "code",
   "execution_count": 198,
   "metadata": {},
   "outputs": [],
   "source": [
    "def ninja():\n",
    "    screenshot = pyautogui.screenshot()\n",
    "    screenshot.save('now.png')\n",
    "    screenshot = cv2.imread('now.png')\n",
    "    target = cv2.imread('ninja.png')\n",
    "    location = cv2.imread('location.png')\n",
    "    where_target = cv2.matchTemplate(screenshot,target,cv2.TM_CCOEFF_NORMED)\n",
    "    where_loc = cv2.matchTemplate(screenshot,location,cv2.TM_CCOEFF_NORMED)\n",
    "    threshold = 0.6\n",
    "    yloc ,xloc = np.where(where_target>=threshold)\n",
    "    yloc2 ,xloc2 = np.where(where_loc>=threshold)\n",
    "    if(len(xloc) > 0 and len(xloc2)>0 ):\n",
    "        pyautogui.moveTo(xloc[0]+50,yloc[0]+50)\n",
    "        pyautogui.dragTo(xloc2[0]+150,yloc2[0]+100, duration=1, button='left')\n",
    "        pyautogui.click(xloc2[0]+150,yloc2[0]+100)\n",
    "        time.sleep(0.3)\n",
    "        ninja_upgrade()\n",
    "\n",
    "    else:\n",
    "        print(\"false\")"
   ]
  },
  {
   "cell_type": "code",
   "execution_count": 204,
   "metadata": {},
   "outputs": [],
   "source": [
    "def ninja_upgrade():\n",
    "    screenshot = pyautogui.screenshot()\n",
    "    screenshot.save('now.png')\n",
    "    screenshot = cv2.imread('now.png')\n",
    "    target = cv2.imread('upgrade2.png')\n",
    "    where_target = cv2.matchTemplate(screenshot,target,cv2.TM_CCOEFF_NORMED)\n",
    "    threshold = 0.6\n",
    "    yloc ,xloc = np.where(where_target>=threshold)\n",
    "    if(len(xloc) > 0 ):\n",
    "        pyautogui.click(xloc[0]+50,yloc[0]+50 ,clicks=2, interval=0.5)\n",
    "        time.sleep(0.1)\n",
    "        pyautogui.click(xloc[0]+50,yloc[0]-180 ,clicks=4, interval=0.5)\n",
    "        time.sleep(0.3)\n",
    "        play()\n",
    "    else:\n",
    "        print(\"false\")"
   ]
  },
  {
   "cell_type": "code",
   "execution_count": 174,
   "metadata": {},
   "outputs": [],
   "source": [
    "def play():\n",
    "    screenshot = pyautogui.screenshot()\n",
    "    screenshot.save('now.png')\n",
    "    screenshot = cv2.imread('now.png')\n",
    "    target = cv2.imread('play.png')\n",
    "    where_target = cv2.matchTemplate(screenshot,target,cv2.TM_CCOEFF_NORMED)\n",
    "    threshold = 0.6\n",
    "    yloc ,xloc = np.where(where_target>=threshold)\n",
    "    if(len(xloc) > 0 ):\n",
    "        pyautogui.click(xloc[0]+50,yloc[0]+50 ,clicks=2, interval=0.5)\n",
    "        time.sleep(0.1)\n",
    "        wait()\n",
    "\n",
    "    else:\n",
    "        print(\"false\")"
   ]
  },
  {
   "cell_type": "code",
   "execution_count": 222,
   "metadata": {},
   "outputs": [],
   "source": [
    "def wait():\n",
    "    screenshot = pyautogui.screenshot()\n",
    "    screenshot.save('now.png')\n",
    "    screenshot = cv2.imread('now.png')\n",
    "    target = cv2.imread('next.png')\n",
    "    where_target = cv2.matchTemplate(screenshot,target,cv2.TM_CCOEFF_NORMED)\n",
    "    threshold = 0.6\n",
    "    yloc ,xloc = np.where(where_target>=threshold)\n",
    "    if(len(xloc) > 0 ):\n",
    "        pyautogui.click(xloc[0]+50,yloc[0]+50)\n",
    "        time.sleep(0.1)\n",
    "        home()\n",
    "    else:\n",
    "        time.sleep(10)\n",
    "        wait()"
   ]
  },
  {
   "cell_type": "code",
   "execution_count": 217,
   "metadata": {},
   "outputs": [],
   "source": [
    "def home():\n",
    "    screenshot = pyautogui.screenshot()\n",
    "    screenshot.save('now.png')\n",
    "    screenshot = cv2.imread('now.png')\n",
    "    target = cv2.imread('home.png')\n",
    "    where_target = cv2.matchTemplate(screenshot,target,cv2.TM_CCOEFF_NORMED)\n",
    "    threshold = 0.6\n",
    "    yloc ,xloc = np.where(where_target>=threshold)\n",
    "    if(len(xloc) > 0 ):\n",
    "        pyautogui.click(xloc[0]+50,yloc[0]+50)\n",
    "        time.sleep(3)\n",
    "        start()\n",
    "    else:\n",
    "        print(\"false\")"
   ]
  },
  {
   "cell_type": "code",
   "execution_count": 221,
   "metadata": {},
   "outputs": [],
   "source": [
    "prepare()"
   ]
  },
  {
   "cell_type": "code",
   "execution_count": null,
   "metadata": {},
   "outputs": [],
   "source": [
    "start()"
   ]
  }
 ],
 "metadata": {
  "kernelspec": {
   "display_name": "Python 3",
   "language": "python",
   "name": "python3"
  },
  "language_info": {
   "codemirror_mode": {
    "name": "ipython",
    "version": 3
   },
   "file_extension": ".py",
   "mimetype": "text/x-python",
   "name": "python",
   "nbconvert_exporter": "python",
   "pygments_lexer": "ipython3",
   "version": "3.11.0"
  }
 },
 "nbformat": 4,
 "nbformat_minor": 2
}
