{
 "cells": [
  {
   "cell_type": "code",
   "execution_count": 20,
   "metadata": {},
   "outputs": [],
   "source": [
    "import pyautogui\n",
    "#pyautogui.displayMousePosition()\n",
    "a=0\n",
    "b=0\n",
    "pyautogui.pixel(a,b)\n",
    "x=129\n",
    "y=80\n",
    "pyautogui.click(x,y, button='left')"
   ]
  },
  {
   "cell_type": "code",
   "execution_count": 21,
   "metadata": {},
   "outputs": [
    {
     "data": {
      "text/plain": [
       "(37, 37, 38)"
      ]
     },
     "execution_count": 21,
     "metadata": {},
     "output_type": "execute_result"
    }
   ],
   "source": [
    "import pyautogui\n",
    "pyautogui.pixel(x,y)"
   ]
  },
  {
   "cell_type": "code",
   "execution_count": 2,
   "metadata": {},
   "outputs": [],
   "source": [
    "import pyautogui\n",
    "import cv2 as cv\n",
    "img = pyautogui.screenshot()\n",
    "imgname = 'test.png'\n",
    "img.save(imgname)"
   ]
  },
  {
   "cell_type": "code",
   "execution_count": 3,
   "metadata": {},
   "outputs": [],
   "source": [
    "img = cv.imread(imgname)\n",
    "cv.imshow(imgname,img)\n",
    "cv.waitKey(0)\n",
    "cv.destroyAllWindows()"
   ]
  },
  {
   "cell_type": "code",
   "execution_count": 2,
   "metadata": {},
   "outputs": [],
   "source": [
    "farm_img = cv.imread('test.png')\n",
    "wat_img = cv.imread('test5.png')\n",
    "result = cv.matchTemplate(farm_img,wat_img, cv.TM_CCOEFF_NORMED)"
   ]
  },
  {
   "cell_type": "code",
   "execution_count": 3,
   "metadata": {},
   "outputs": [],
   "source": [
    "import numpy as np\n",
    "threshold = 0.6\n",
    "yloc,xloc = np.where(result >= threshold)\n",
    "w = wat_img.shape[1]\n",
    "h = wat_img.shape[0]\n",
    "\n",
    "for (x,y) in zip(xloc,yloc):\n",
    "    cv.rectangle(farm_img, (x,y) ,(x+w,y+h),(0,255,255) ,2)\n",
    "\n"
   ]
  },
  {
   "cell_type": "code",
   "execution_count": 5,
   "metadata": {},
   "outputs": [],
   "source": [
    "cv.imshow(imgname,farm_img)\n",
    "cv.waitKey(0)\n",
    "cv.destroyAllWindows()"
   ]
  }
 ],
 "metadata": {
  "kernelspec": {
   "display_name": "Python 3",
   "language": "python",
   "name": "python3"
  },
  "language_info": {
   "codemirror_mode": {
    "name": "ipython",
    "version": 3
   },
   "file_extension": ".py",
   "mimetype": "text/x-python",
   "name": "python",
   "nbconvert_exporter": "python",
   "pygments_lexer": "ipython3",
   "version": "3.11.0"
  }
 },
 "nbformat": 4,
 "nbformat_minor": 2
}
